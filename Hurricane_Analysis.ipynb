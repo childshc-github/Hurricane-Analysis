{
 "cells": [
  {
   "cell_type": "markdown",
   "id": "ffcc46bd-e65a-4751-afd2-ad50c2efa460",
   "metadata": {},
   "source": [
    "# Hurricane Raw Data"
   ]
  },
  {
   "cell_type": "code",
   "execution_count": 2,
   "id": "9c4c2099-93b9-435e-be78-a9fac6ebaddd",
   "metadata": {
    "execution": {
     "iopub.execute_input": "2022-01-21T00:42:49.309382Z",
     "iopub.status.busy": "2022-01-21T00:42:49.308412Z",
     "iopub.status.idle": "2022-01-21T00:42:49.322354Z",
     "shell.execute_reply": "2022-01-21T00:42:49.321416Z",
     "shell.execute_reply.started": "2022-01-21T00:42:49.309382Z"
    }
   },
   "outputs": [],
   "source": [
    "#names of hurricanes\n",
    "names = ['Cuba I', 'San Felipe II Okeechobee', 'Bahamas', 'Cuba II', 'CubaBrownsville', 'Tampico', 'Labor Day', 'New England', 'Carol', 'Janet', 'Carla', 'Hattie', 'Beulah', 'Camille', 'Edith', 'Anita', 'David', 'Allen', 'Gilbert', 'Hugo', 'Andrew', 'Mitch', 'Isabel', 'Ivan', 'Emily', 'Katrina', 'Rita', 'Wilma', 'Dean', 'Felix', 'Matthew', 'Irma', 'Maria', 'Michael']\n",
    "\n",
    "# months of hurricanes\n",
    "months = ['October', 'September', 'September', 'November', 'August', 'September', 'September', 'September', 'September', 'September', 'September', 'October', 'September', 'August', 'September', 'September', 'August', 'August', 'September', 'September', 'August', 'October', 'September', 'September', 'July', 'August', 'September', 'October', 'August', 'September', 'October', 'September', 'September', 'October']\n",
    "\n",
    "# years of hurricanes\n",
    "years = [1924, 1928, 1932, 1932, 1933, 1933, 1935, 1938, 1953, 1955, 1961, 1961, 1967, 1969, 1971, 1977, 1979, 1980, 1988, 1989, 1992, 1998, 2003, 2004, 2005, 2005, 2005, 2005, 2007, 2007, 2016, 2017, 2017, 2018]\n",
    "\n",
    "# maximum sustained winds (mph) of hurricanes\n",
    "max_sustained_winds = [165, 160, 160, 175, 160, 160, 185, 160, 160, 175, 175, 160, 160, 175, 160, 175, 175, 190, 185, 160, 175, 180, 165, 165, 160, 175, 180, 185, 175, 175, 165, 180, 175, 160]\n",
    "\n",
    "# areas affected by each hurricane\n",
    "areas_affected = [['Central America', 'Mexico', 'Cuba', 'Florida', 'The Bahamas'], ['Lesser Antilles', 'The Bahamas', 'United States East Coast', 'Atlantic Canada'], ['The Bahamas', 'Northeastern United States'], ['Lesser Antilles', 'Jamaica', 'Cayman Islands', 'Cuba', 'The Bahamas', 'Bermuda'], ['The Bahamas', 'Cuba', 'Florida', 'Texas', 'Tamaulipas'], ['Jamaica', 'Yucatn Peninsula'], ['The Bahamas', 'Florida', 'Georgia', 'The Carolinas', 'Virginia'], ['Southeastern United States', 'Northeastern United States', 'Southwestern Quebec'], ['Bermuda', 'New England', 'Atlantic Canada'], ['Lesser Antilles', 'Central America'], ['Texas', 'Louisiana', 'Midwestern United States'], ['Central America'], ['The Caribbean', 'Mexico', 'Texas'], ['Cuba', 'United States Gulf Coast'], ['The Caribbean', 'Central America', 'Mexico', 'United States Gulf Coast'], ['Mexico'], ['The Caribbean', 'United States East coast'], ['The Caribbean', 'Yucatn Peninsula', 'Mexico', 'South Texas'], ['Jamaica', 'Venezuela', 'Central America', 'Hispaniola', 'Mexico'], ['The Caribbean', 'United States East Coast'], ['The Bahamas', 'Florida', 'United States Gulf Coast'], ['Central America', 'Yucatn Peninsula', 'South Florida'], ['Greater Antilles', 'Bahamas', 'Eastern United States', 'Ontario'], ['The Caribbean', 'Venezuela', 'United States Gulf Coast'], ['Windward Islands', 'Jamaica', 'Mexico', 'Texas'], ['Bahamas', 'United States Gulf Coast'], ['Cuba', 'United States Gulf Coast'], ['Greater Antilles', 'Central America', 'Florida'], ['The Caribbean', 'Central America'], ['Nicaragua', 'Honduras'], ['Antilles', 'Venezuela', 'Colombia', 'United States East Coast', 'Atlantic Canada'], ['Cape Verde', 'The Caribbean', 'British Virgin Islands', 'U.S. Virgin Islands', 'Cuba', 'Florida'], ['Lesser Antilles', 'Virgin Islands', 'Puerto Rico', 'Dominican Republic', 'Turks and Caicos Islands'], ['Central America', 'United States Gulf Coast (especially Florida Panhandle)']]\n",
    "\n",
    "# damages (USD($)) of hurricanes\n",
    "damages = ['Damages not recorded', '100M', 'Damages not recorded', '40M', '27.9M', '5M', 'Damages not recorded', '306M', '2M', '65.8M', '326M', '60.3M', '208M', '1.42B', '25.4M', 'Damages not recorded', '1.54B', '1.24B', '7.1B', '10B', '26.5B', '6.2B', '5.37B', '23.3B', '1.01B', '125B', '12B', '29.4B', '1.76B', '720M', '15.1B', '64.8B', '91.6B', '25.1B']\n",
    "\n",
    "# deaths for each hurricane\n",
    "deaths = [90,4000,16,3103,179,184,408,682,5,1023,43,319,688,259,37,11,2068,269,318,107,65,19325,51,124,17,1836,125,87,45,133,603,138,3057,74]\n"
   ]
  },
  {
   "cell_type": "markdown",
   "id": "dc970a2a-4553-4171-b8e3-6cbaff3bf7cd",
   "metadata": {},
   "source": [
    "***"
   ]
  },
  {
   "cell_type": "markdown",
   "id": "78840211-2fcc-452a-8c92-92f86c852c44",
   "metadata": {},
   "source": [
    "### Damages (USD) conversion function"
   ]
  },
  {
   "cell_type": "code",
   "execution_count": 3,
   "id": "91ebfdc9-9a69-4334-b849-5f4a817b7a81",
   "metadata": {
    "execution": {
     "iopub.execute_input": "2022-01-21T00:42:51.500621Z",
     "iopub.status.busy": "2022-01-21T00:42:51.500621Z",
     "iopub.status.idle": "2022-01-21T00:42:51.522504Z",
     "shell.execute_reply": "2022-01-21T00:42:51.521511Z",
     "shell.execute_reply.started": "2022-01-21T00:42:51.500621Z"
    }
   },
   "outputs": [
    {
     "name": "stdout",
     "output_type": "stream",
     "text": [
      "['Damages not recorded', 100000000.0, 'Damages not recorded', 40000000.0, 27900000.0, 5000000.0, 'Damages not recorded', 306000000.0, 2000000.0, 65800000.0, 326000000.0, 60300000.0, 208000000.0, 1420000000.0, 25400000.0, 'Damages not recorded', 1540000000.0, 1240000000.0, 7100000000.0, 10000000000.0, 26500000000.0, 6200000000.0, 5370000000.0, 23300000000.0, 1010000000.0, 125000000000.0, 12000000000.0, 29400000000.0, 1760000000.0, 720000000.0, 15100000000.0, 64800000000.0, 91600000000.0, 25100000000.0]\n"
     ]
    }
   ],
   "source": [
    "# Update Recorded Damages (M = million, B = billion)\n",
    "conversion = {\"M\": 1000000,\n",
    "              \"B\": 1000000000}\n",
    "\n",
    "# creates empty list for converted damage values\n",
    "converted_damages = []\n",
    "\n",
    "# function converts all damage data from damages list to floats (ex. 1M to 1000000.0)\n",
    "def converting_damages_to_float(lst):\n",
    "  for cost in lst:\n",
    "    if cost[-1] == \"M\":\n",
    "      converted = float(cost[:-1]) * conversion[\"M\"]  \n",
    "      converted_damages.append(converted)\n",
    "    elif cost[-1] == \"B\":\n",
    "      converted = float(cost[:-1]) * conversion[\"B\"]\n",
    "      converted_damages.append(converted)\n",
    "    else:\n",
    "      converted_damages.append(cost)\n",
    "  return converted_damages\n",
    "    \n",
    "converted_damages = converting_damages_to_float(damages)\n",
    "print(converted_damages)"
   ]
  },
  {
   "cell_type": "markdown",
   "id": "fe0fb8ae-7b9a-47c1-b6b8-86130acff507",
   "metadata": {},
   "source": [
    "### Hurricanes Dictionary: Name as Key"
   ]
  },
  {
   "cell_type": "code",
   "execution_count": 4,
   "id": "71900f0f-9b0c-4729-b422-d0e3fc47df21",
   "metadata": {
    "execution": {
     "iopub.execute_input": "2022-01-21T00:42:53.676212Z",
     "iopub.status.busy": "2022-01-21T00:42:53.676212Z",
     "iopub.status.idle": "2022-01-21T00:42:53.683178Z",
     "shell.execute_reply": "2022-01-21T00:42:53.683178Z",
     "shell.execute_reply.started": "2022-01-21T00:42:53.676212Z"
    }
   },
   "outputs": [
    {
     "name": "stdout",
     "output_type": "stream",
     "text": [
      "{'Cuba I': {'Name': 'Cuba I', 'Month': 'October', 'Year': 1924, 'Max Sustained Wind': 165, 'Areas Affected': ['Central America', 'Mexico', 'Cuba', 'Florida', 'The Bahamas'], 'Damage': 'Damages not recorded', 'Deaths': 90}, 'San Felipe II Okeechobee': {'Name': 'San Felipe II Okeechobee', 'Month': 'September', 'Year': 1928, 'Max Sustained Wind': 160, 'Areas Affected': ['Lesser Antilles', 'The Bahamas', 'United States East Coast', 'Atlantic Canada'], 'Damage': 100000000.0, 'Deaths': 4000}, 'Bahamas': {'Name': 'Bahamas', 'Month': 'September', 'Year': 1932, 'Max Sustained Wind': 160, 'Areas Affected': ['The Bahamas', 'Northeastern United States'], 'Damage': 'Damages not recorded', 'Deaths': 16}, 'Cuba II': {'Name': 'Cuba II', 'Month': 'November', 'Year': 1932, 'Max Sustained Wind': 175, 'Areas Affected': ['Lesser Antilles', 'Jamaica', 'Cayman Islands', 'Cuba', 'The Bahamas', 'Bermuda'], 'Damage': 40000000.0, 'Deaths': 3103}, 'CubaBrownsville': {'Name': 'CubaBrownsville', 'Month': 'August', 'Year': 1933, 'Max Sustained Wind': 160, 'Areas Affected': ['The Bahamas', 'Cuba', 'Florida', 'Texas', 'Tamaulipas'], 'Damage': 27900000.0, 'Deaths': 179}, 'Tampico': {'Name': 'Tampico', 'Month': 'September', 'Year': 1933, 'Max Sustained Wind': 160, 'Areas Affected': ['Jamaica', 'Yucatn Peninsula'], 'Damage': 5000000.0, 'Deaths': 184}, 'Labor Day': {'Name': 'Labor Day', 'Month': 'September', 'Year': 1935, 'Max Sustained Wind': 185, 'Areas Affected': ['The Bahamas', 'Florida', 'Georgia', 'The Carolinas', 'Virginia'], 'Damage': 'Damages not recorded', 'Deaths': 408}, 'New England': {'Name': 'New England', 'Month': 'September', 'Year': 1938, 'Max Sustained Wind': 160, 'Areas Affected': ['Southeastern United States', 'Northeastern United States', 'Southwestern Quebec'], 'Damage': 306000000.0, 'Deaths': 682}, 'Carol': {'Name': 'Carol', 'Month': 'September', 'Year': 1953, 'Max Sustained Wind': 160, 'Areas Affected': ['Bermuda', 'New England', 'Atlantic Canada'], 'Damage': 2000000.0, 'Deaths': 5}, 'Janet': {'Name': 'Janet', 'Month': 'September', 'Year': 1955, 'Max Sustained Wind': 175, 'Areas Affected': ['Lesser Antilles', 'Central America'], 'Damage': 65800000.0, 'Deaths': 1023}, 'Carla': {'Name': 'Carla', 'Month': 'September', 'Year': 1961, 'Max Sustained Wind': 175, 'Areas Affected': ['Texas', 'Louisiana', 'Midwestern United States'], 'Damage': 326000000.0, 'Deaths': 43}, 'Hattie': {'Name': 'Hattie', 'Month': 'October', 'Year': 1961, 'Max Sustained Wind': 160, 'Areas Affected': ['Central America'], 'Damage': 60300000.0, 'Deaths': 319}, 'Beulah': {'Name': 'Beulah', 'Month': 'September', 'Year': 1967, 'Max Sustained Wind': 160, 'Areas Affected': ['The Caribbean', 'Mexico', 'Texas'], 'Damage': 208000000.0, 'Deaths': 688}, 'Camille': {'Name': 'Camille', 'Month': 'August', 'Year': 1969, 'Max Sustained Wind': 175, 'Areas Affected': ['Cuba', 'United States Gulf Coast'], 'Damage': 1420000000.0, 'Deaths': 259}, 'Edith': {'Name': 'Edith', 'Month': 'September', 'Year': 1971, 'Max Sustained Wind': 160, 'Areas Affected': ['The Caribbean', 'Central America', 'Mexico', 'United States Gulf Coast'], 'Damage': 25400000.0, 'Deaths': 37}, 'Anita': {'Name': 'Anita', 'Month': 'September', 'Year': 1977, 'Max Sustained Wind': 175, 'Areas Affected': ['Mexico'], 'Damage': 'Damages not recorded', 'Deaths': 11}, 'David': {'Name': 'David', 'Month': 'August', 'Year': 1979, 'Max Sustained Wind': 175, 'Areas Affected': ['The Caribbean', 'United States East coast'], 'Damage': 1540000000.0, 'Deaths': 2068}, 'Allen': {'Name': 'Allen', 'Month': 'August', 'Year': 1980, 'Max Sustained Wind': 190, 'Areas Affected': ['The Caribbean', 'Yucatn Peninsula', 'Mexico', 'South Texas'], 'Damage': 1240000000.0, 'Deaths': 269}, 'Gilbert': {'Name': 'Gilbert', 'Month': 'September', 'Year': 1988, 'Max Sustained Wind': 185, 'Areas Affected': ['Jamaica', 'Venezuela', 'Central America', 'Hispaniola', 'Mexico'], 'Damage': 7100000000.0, 'Deaths': 318}, 'Hugo': {'Name': 'Hugo', 'Month': 'September', 'Year': 1989, 'Max Sustained Wind': 160, 'Areas Affected': ['The Caribbean', 'United States East Coast'], 'Damage': 10000000000.0, 'Deaths': 107}, 'Andrew': {'Name': 'Andrew', 'Month': 'August', 'Year': 1992, 'Max Sustained Wind': 175, 'Areas Affected': ['The Bahamas', 'Florida', 'United States Gulf Coast'], 'Damage': 26500000000.0, 'Deaths': 65}, 'Mitch': {'Name': 'Mitch', 'Month': 'October', 'Year': 1998, 'Max Sustained Wind': 180, 'Areas Affected': ['Central America', 'Yucatn Peninsula', 'South Florida'], 'Damage': 6200000000.0, 'Deaths': 19325}, 'Isabel': {'Name': 'Isabel', 'Month': 'September', 'Year': 2003, 'Max Sustained Wind': 165, 'Areas Affected': ['Greater Antilles', 'Bahamas', 'Eastern United States', 'Ontario'], 'Damage': 5370000000.0, 'Deaths': 51}, 'Ivan': {'Name': 'Ivan', 'Month': 'September', 'Year': 2004, 'Max Sustained Wind': 165, 'Areas Affected': ['The Caribbean', 'Venezuela', 'United States Gulf Coast'], 'Damage': 23300000000.0, 'Deaths': 124}, 'Emily': {'Name': 'Emily', 'Month': 'July', 'Year': 2005, 'Max Sustained Wind': 160, 'Areas Affected': ['Windward Islands', 'Jamaica', 'Mexico', 'Texas'], 'Damage': 1010000000.0, 'Deaths': 17}, 'Katrina': {'Name': 'Katrina', 'Month': 'August', 'Year': 2005, 'Max Sustained Wind': 175, 'Areas Affected': ['Bahamas', 'United States Gulf Coast'], 'Damage': 125000000000.0, 'Deaths': 1836}, 'Rita': {'Name': 'Rita', 'Month': 'September', 'Year': 2005, 'Max Sustained Wind': 180, 'Areas Affected': ['Cuba', 'United States Gulf Coast'], 'Damage': 12000000000.0, 'Deaths': 125}, 'Wilma': {'Name': 'Wilma', 'Month': 'October', 'Year': 2005, 'Max Sustained Wind': 185, 'Areas Affected': ['Greater Antilles', 'Central America', 'Florida'], 'Damage': 29400000000.0, 'Deaths': 87}, 'Dean': {'Name': 'Dean', 'Month': 'August', 'Year': 2007, 'Max Sustained Wind': 175, 'Areas Affected': ['The Caribbean', 'Central America'], 'Damage': 1760000000.0, 'Deaths': 45}, 'Felix': {'Name': 'Felix', 'Month': 'September', 'Year': 2007, 'Max Sustained Wind': 175, 'Areas Affected': ['Nicaragua', 'Honduras'], 'Damage': 720000000.0, 'Deaths': 133}, 'Matthew': {'Name': 'Matthew', 'Month': 'October', 'Year': 2016, 'Max Sustained Wind': 165, 'Areas Affected': ['Antilles', 'Venezuela', 'Colombia', 'United States East Coast', 'Atlantic Canada'], 'Damage': 15100000000.0, 'Deaths': 603}, 'Irma': {'Name': 'Irma', 'Month': 'September', 'Year': 2017, 'Max Sustained Wind': 180, 'Areas Affected': ['Cape Verde', 'The Caribbean', 'British Virgin Islands', 'U.S. Virgin Islands', 'Cuba', 'Florida'], 'Damage': 64800000000.0, 'Deaths': 138}, 'Maria': {'Name': 'Maria', 'Month': 'September', 'Year': 2017, 'Max Sustained Wind': 175, 'Areas Affected': ['Lesser Antilles', 'Virgin Islands', 'Puerto Rico', 'Dominican Republic', 'Turks and Caicos Islands'], 'Damage': 91600000000.0, 'Deaths': 3057}, 'Michael': {'Name': 'Michael', 'Month': 'October', 'Year': 2018, 'Max Sustained Wind': 160, 'Areas Affected': ['Central America', 'United States Gulf Coast (especially Florida Panhandle)'], 'Damage': 25100000000.0, 'Deaths': 74}}\n"
     ]
    }
   ],
   "source": [
    "# function makes a hurricane dictionary combining all above data with name as key\n",
    "def make_hurricane_dictionaries(names, months, years, max_sustained_winds, areas_affected, deaths):\n",
    "    \n",
    "  hurricanes = {}\n",
    "  length_hurricanes = len(names)\n",
    "\n",
    "  for place in range(length_hurricanes):\n",
    "    hurricanes[names[place]] = {\"Name\": names[place], \"Month\": months[place], \"Year\": years[place], \"Max Sustained Wind\": max_sustained_winds[place], \"Areas Affected\": areas_affected[place], \"Damage\": converted_damages[place], \"Deaths\": deaths[place]}\n",
    "  \n",
    "  return hurricanes\n",
    "\n",
    "hurricanes_dictionary = make_hurricane_dictionaries(names, months, years, max_sustained_winds, areas_affected, deaths)\n",
    "\n",
    "print(hurricanes_dictionary)"
   ]
  },
  {
   "cell_type": "markdown",
   "id": "3168f489-b467-44a2-9629-532e9bbe6e16",
   "metadata": {},
   "source": [
    "### Hurricanes Dictionary: Year as Key"
   ]
  },
  {
   "cell_type": "code",
   "execution_count": 5,
   "id": "eac1e068-8569-47b9-b179-71ae142c5ba8",
   "metadata": {
    "execution": {
     "iopub.execute_input": "2022-01-21T00:42:57.529959Z",
     "iopub.status.busy": "2022-01-21T00:42:57.529959Z",
     "iopub.status.idle": "2022-01-21T00:42:57.545913Z",
     "shell.execute_reply": "2022-01-21T00:42:57.544917Z",
     "shell.execute_reply.started": "2022-01-21T00:42:57.529959Z"
    }
   },
   "outputs": [
    {
     "name": "stdout",
     "output_type": "stream",
     "text": [
      "{1924: {'Name': 'Cuba I', 'Month': 'October', 'Year': 1924, 'Max Sustained Wind': 165, 'Areas Affected': ['Central America', 'Mexico', 'Cuba', 'Florida', 'The Bahamas'], 'Damage': 'Damages not recorded', 'Deaths': 90}, 1928: {'Name': 'San Felipe II Okeechobee', 'Month': 'September', 'Year': 1928, 'Max Sustained Wind': 160, 'Areas Affected': ['Lesser Antilles', 'The Bahamas', 'United States East Coast', 'Atlantic Canada'], 'Damage': 100000000.0, 'Deaths': 4000}, 1932: {'Name': 'Cuba II', 'Month': 'November', 'Year': 1932, 'Max Sustained Wind': 175, 'Areas Affected': ['Lesser Antilles', 'Jamaica', 'Cayman Islands', 'Cuba', 'The Bahamas', 'Bermuda'], 'Damage': 40000000.0, 'Deaths': 3103}, 1933: {'Name': 'Tampico', 'Month': 'September', 'Year': 1933, 'Max Sustained Wind': 160, 'Areas Affected': ['Jamaica', 'Yucatn Peninsula'], 'Damage': 5000000.0, 'Deaths': 184}, 1935: {'Name': 'Labor Day', 'Month': 'September', 'Year': 1935, 'Max Sustained Wind': 185, 'Areas Affected': ['The Bahamas', 'Florida', 'Georgia', 'The Carolinas', 'Virginia'], 'Damage': 'Damages not recorded', 'Deaths': 408}, 1938: {'Name': 'New England', 'Month': 'September', 'Year': 1938, 'Max Sustained Wind': 160, 'Areas Affected': ['Southeastern United States', 'Northeastern United States', 'Southwestern Quebec'], 'Damage': 306000000.0, 'Deaths': 682}, 1953: {'Name': 'Carol', 'Month': 'September', 'Year': 1953, 'Max Sustained Wind': 160, 'Areas Affected': ['Bermuda', 'New England', 'Atlantic Canada'], 'Damage': 2000000.0, 'Deaths': 5}, 1955: {'Name': 'Janet', 'Month': 'September', 'Year': 1955, 'Max Sustained Wind': 175, 'Areas Affected': ['Lesser Antilles', 'Central America'], 'Damage': 65800000.0, 'Deaths': 1023}, 1961: {'Name': 'Hattie', 'Month': 'October', 'Year': 1961, 'Max Sustained Wind': 160, 'Areas Affected': ['Central America'], 'Damage': 60300000.0, 'Deaths': 319}, 1967: {'Name': 'Beulah', 'Month': 'September', 'Year': 1967, 'Max Sustained Wind': 160, 'Areas Affected': ['The Caribbean', 'Mexico', 'Texas'], 'Damage': 208000000.0, 'Deaths': 688}, 1969: {'Name': 'Camille', 'Month': 'August', 'Year': 1969, 'Max Sustained Wind': 175, 'Areas Affected': ['Cuba', 'United States Gulf Coast'], 'Damage': 1420000000.0, 'Deaths': 259}, 1971: {'Name': 'Edith', 'Month': 'September', 'Year': 1971, 'Max Sustained Wind': 160, 'Areas Affected': ['The Caribbean', 'Central America', 'Mexico', 'United States Gulf Coast'], 'Damage': 25400000.0, 'Deaths': 37}, 1977: {'Name': 'Anita', 'Month': 'September', 'Year': 1977, 'Max Sustained Wind': 175, 'Areas Affected': ['Mexico'], 'Damage': 'Damages not recorded', 'Deaths': 11}, 1979: {'Name': 'David', 'Month': 'August', 'Year': 1979, 'Max Sustained Wind': 175, 'Areas Affected': ['The Caribbean', 'United States East coast'], 'Damage': 1540000000.0, 'Deaths': 2068}, 1980: {'Name': 'Allen', 'Month': 'August', 'Year': 1980, 'Max Sustained Wind': 190, 'Areas Affected': ['The Caribbean', 'Yucatn Peninsula', 'Mexico', 'South Texas'], 'Damage': 1240000000.0, 'Deaths': 269}, 1988: {'Name': 'Gilbert', 'Month': 'September', 'Year': 1988, 'Max Sustained Wind': 185, 'Areas Affected': ['Jamaica', 'Venezuela', 'Central America', 'Hispaniola', 'Mexico'], 'Damage': 7100000000.0, 'Deaths': 318}, 1989: {'Name': 'Hugo', 'Month': 'September', 'Year': 1989, 'Max Sustained Wind': 160, 'Areas Affected': ['The Caribbean', 'United States East Coast'], 'Damage': 10000000000.0, 'Deaths': 107}, 1992: {'Name': 'Andrew', 'Month': 'August', 'Year': 1992, 'Max Sustained Wind': 175, 'Areas Affected': ['The Bahamas', 'Florida', 'United States Gulf Coast'], 'Damage': 26500000000.0, 'Deaths': 65}, 1998: {'Name': 'Mitch', 'Month': 'October', 'Year': 1998, 'Max Sustained Wind': 180, 'Areas Affected': ['Central America', 'Yucatn Peninsula', 'South Florida'], 'Damage': 6200000000.0, 'Deaths': 19325}, 2003: {'Name': 'Isabel', 'Month': 'September', 'Year': 2003, 'Max Sustained Wind': 165, 'Areas Affected': ['Greater Antilles', 'Bahamas', 'Eastern United States', 'Ontario'], 'Damage': 5370000000.0, 'Deaths': 51}, 2004: {'Name': 'Ivan', 'Month': 'September', 'Year': 2004, 'Max Sustained Wind': 165, 'Areas Affected': ['The Caribbean', 'Venezuela', 'United States Gulf Coast'], 'Damage': 23300000000.0, 'Deaths': 124}, 2005: {'Name': 'Wilma', 'Month': 'October', 'Year': 2005, 'Max Sustained Wind': 185, 'Areas Affected': ['Greater Antilles', 'Central America', 'Florida'], 'Damage': 29400000000.0, 'Deaths': 87}, 2007: {'Name': 'Felix', 'Month': 'September', 'Year': 2007, 'Max Sustained Wind': 175, 'Areas Affected': ['Nicaragua', 'Honduras'], 'Damage': 720000000.0, 'Deaths': 133}, 2016: {'Name': 'Matthew', 'Month': 'October', 'Year': 2016, 'Max Sustained Wind': 165, 'Areas Affected': ['Antilles', 'Venezuela', 'Colombia', 'United States East Coast', 'Atlantic Canada'], 'Damage': 15100000000.0, 'Deaths': 603}, 2017: {'Name': 'Maria', 'Month': 'September', 'Year': 2017, 'Max Sustained Wind': 175, 'Areas Affected': ['Lesser Antilles', 'Virgin Islands', 'Puerto Rico', 'Dominican Republic', 'Turks and Caicos Islands'], 'Damage': 91600000000.0, 'Deaths': 3057}, 2018: {'Name': 'Michael', 'Month': 'October', 'Year': 2018, 'Max Sustained Wind': 160, 'Areas Affected': ['Central America', 'United States Gulf Coast (especially Florida Panhandle)'], 'Damage': 25100000000.0, 'Deaths': 74}}\n"
     ]
    }
   ],
   "source": [
    "# Creates a new dictionary of hurricanes with year as key\n",
    "hurricanes_dictionary_by_year = {}\n",
    "\n",
    "for index in range(len(hurricanes_dictionary)):\n",
    "  new_key = years[index]\n",
    "  old_key = names[index]\n",
    "  hurricanes_dictionary_by_year[new_key] = hurricanes_dictionary[old_key]\n",
    " \n",
    "print(hurricanes_dictionary_by_year)"
   ]
  },
  {
   "cell_type": "markdown",
   "id": "99d256eb-19c3-418c-aa84-8c9ea66c50c9",
   "metadata": {
    "execution": {
     "iopub.execute_input": "2022-01-21T00:37:16.279548Z",
     "iopub.status.busy": "2022-01-21T00:37:16.279548Z",
     "iopub.status.idle": "2022-01-21T00:37:16.297323Z",
     "shell.execute_reply": "2022-01-21T00:37:16.296325Z",
     "shell.execute_reply.started": "2022-01-21T00:37:16.279548Z"
    }
   },
   "source": [
    "### Affected Area Counter"
   ]
  },
  {
   "cell_type": "code",
   "execution_count": 6,
   "id": "f6f63723-142d-488c-b985-bd4b55802ccb",
   "metadata": {
    "execution": {
     "iopub.execute_input": "2022-01-21T00:42:58.964495Z",
     "iopub.status.busy": "2022-01-21T00:42:58.964495Z",
     "iopub.status.idle": "2022-01-21T00:42:58.979431Z",
     "shell.execute_reply": "2022-01-21T00:42:58.978433Z",
     "shell.execute_reply.started": "2022-01-21T00:42:58.964495Z"
    }
   },
   "outputs": [
    {
     "name": "stdout",
     "output_type": "stream",
     "text": [
      "{'Central America': 9, 'Mexico': 7, 'Cuba': 6, 'Florida': 6, 'The Bahamas': 7, 'Lesser Antilles': 4, 'United States East Coast': 3, 'Atlantic Canada': 3, 'Northeastern United States': 2, 'Jamaica': 4, 'Cayman Islands': 1, 'Bermuda': 2, 'Texas': 4, 'Tamaulipas': 1, 'Yucatn Peninsula': 3, 'Georgia': 1, 'The Carolinas': 1, 'Virginia': 1, 'Southeastern United States': 1, 'Southwestern Quebec': 1, 'New England': 1, 'Louisiana': 1, 'Midwestern United States': 1, 'The Caribbean': 8, 'United States Gulf Coast': 6, 'United States East coast': 1, 'South Texas': 1, 'Venezuela': 3, 'Hispaniola': 1, 'South Florida': 1, 'Greater Antilles': 2, 'Bahamas': 2, 'Eastern United States': 1, 'Ontario': 1, 'Windward Islands': 1, 'Nicaragua': 1, 'Honduras': 1, 'Antilles': 1, 'Colombia': 1, 'Cape Verde': 1, 'British Virgin Islands': 1, 'U.S. Virgin Islands': 1, 'Virgin Islands': 1, 'Puerto Rico': 1, 'Dominican Republic': 1, 'Turks and Caicos Islands': 1, 'United States Gulf Coast (especially Florida Panhandle)': 1}\n"
     ]
    }
   ],
   "source": [
    "# creates dictionary of areas with count of frequency\n",
    "affected_area_count = {}\n",
    "\n",
    "for area in areas_affected:\n",
    "  for spot in area:\n",
    "    if spot not in affected_area_count:\n",
    "      affected_area_count[spot] = 1\n",
    "    elif spot in affected_area_count:\n",
    "      affected_area_count[spot] += 1\n",
    "\n",
    "print(affected_area_count)"
   ]
  },
  {
   "cell_type": "markdown",
   "id": "59bb2458-68ac-4e64-93d3-22055c7a4b05",
   "metadata": {},
   "source": [
    "### Max Affected Area Finder"
   ]
  },
  {
   "cell_type": "code",
   "execution_count": 7,
   "id": "bd4c7ad2-9409-4e10-a443-514a6763ef8a",
   "metadata": {
    "execution": {
     "iopub.execute_input": "2022-01-21T00:43:00.151010Z",
     "iopub.status.busy": "2022-01-21T00:43:00.151010Z",
     "iopub.status.idle": "2022-01-21T00:43:00.157989Z",
     "shell.execute_reply": "2022-01-21T00:43:00.157989Z",
     "shell.execute_reply.started": "2022-01-21T00:43:00.151010Z"
    }
   },
   "outputs": [
    {
     "name": "stdout",
     "output_type": "stream",
     "text": [
      "The most frequently affected area was Central America and the total number of hurricanes involved was 9.\n"
     ]
    }
   ],
   "source": [
    "# finds the most frequently affected area and the number of hurricanes occured\n",
    "max_area_name = ''\n",
    "max_area_count = 0\n",
    "\n",
    "for area in affected_area_count:\n",
    "  if affected_area_count[area] > max_area_count:\n",
    "    max_area_name = area\n",
    "    max_area_count = affected_area_count[area]\n",
    "    \n",
    "print(\"The most frequently affected area was {} and the total number of hurricanes involved was {}.\".format(max_area_name, max_area_count))"
   ]
  },
  {
   "cell_type": "markdown",
   "id": "b455f39a-54e7-4425-ada6-ea5ca6a195ce",
   "metadata": {},
   "source": [
    "### Deadliest Hurricane Finder"
   ]
  },
  {
   "cell_type": "code",
   "execution_count": 8,
   "id": "3324d3c4-4126-4a63-b359-991d51f33793",
   "metadata": {
    "execution": {
     "iopub.execute_input": "2022-01-21T00:43:02.067086Z",
     "iopub.status.busy": "2022-01-21T00:43:02.067086Z",
     "iopub.status.idle": "2022-01-21T00:43:02.080051Z",
     "shell.execute_reply": "2022-01-21T00:43:02.079054Z",
     "shell.execute_reply.started": "2022-01-21T00:43:02.067086Z"
    }
   },
   "outputs": [
    {
     "name": "stdout",
     "output_type": "stream",
     "text": [
      "The hurricane that caused the greatest number of deaths was Mitch with a death toll of 19325.\n"
     ]
    }
   ],
   "source": [
    "# interates through hurricanes dictionary (by names) and finds highest mortality hurricane and the number of deaths\n",
    "\n",
    "max_death_name = ''\n",
    "max_death_count = 0\n",
    "\n",
    "for name in hurricanes_dictionary:\n",
    "  if hurricanes_dictionary[name][\"Deaths\"] > max_death_count:\n",
    "    max_death_name = name\n",
    "    max_death_count = hurricanes_dictionary[name][\"Deaths\"]\n",
    "    \n",
    "print(\"The hurricane that caused the greatest number of deaths was {} with a death toll of {}.\".format(max_death_name, max_death_count))"
   ]
  },
  {
   "cell_type": "markdown",
   "id": "21632460-dcc0-4287-a138-7278f5bbfce8",
   "metadata": {},
   "source": [
    "### Mortality Ranker"
   ]
  },
  {
   "cell_type": "code",
   "execution_count": 9,
   "id": "d88af6a7-0d7a-4b73-bf1a-9b0d48e64d78",
   "metadata": {
    "execution": {
     "iopub.execute_input": "2022-01-21T00:43:03.181163Z",
     "iopub.status.busy": "2022-01-21T00:43:03.181163Z",
     "iopub.status.idle": "2022-01-21T00:43:03.195926Z",
     "shell.execute_reply": "2022-01-21T00:43:03.194928Z",
     "shell.execute_reply.started": "2022-01-21T00:43:03.181163Z"
    }
   },
   "outputs": [
    {
     "name": "stdout",
     "output_type": "stream",
     "text": [
      "{0: [], 1: ['Cuba I', 'Bahamas', 'Carol', 'Carla', 'Edith', 'Anita', 'Andrew', 'Isabel', 'Emily', 'Wilma', 'Dean', 'Michael'], 2: ['CubaBrownsville', 'Tampico', 'Labor Day', 'Hattie', 'Camille', 'Allen', 'Gilbert', 'Hugo', 'Ivan', 'Rita', 'Felix', 'Irma'], 3: ['New England', 'Beulah', 'Matthew'], 4: ['San Felipe II Okeechobee', 'Cuba II', 'Janet', 'David', 'Katrina', 'Maria']}\n"
     ]
    }
   ],
   "source": [
    "# Rates hurricanes by mortality\n",
    "\n",
    "mortality_scale = {0: 0,\n",
    "                   1: 100,\n",
    "                   2: 500,\n",
    "                   3: 1000,\n",
    "                   4: 10000}\n",
    "\n",
    "# categorize hurricanes in new dictionary with mortality severity as key\n",
    "mortality_ratings_dictionary = {0: [], 1: [], 2: [], 3:[], 4: []}\n",
    "\n",
    "for name in hurricanes_dictionary:\n",
    "  if hurricanes_dictionary[name][\"Deaths\"] == mortality_scale[0]:\n",
    "    mortality_ratings_dictionary[0].append(name)\n",
    "    \n",
    "  elif hurricanes_dictionary[name][\"Deaths\"] <= mortality_scale[1]:\n",
    "    mortality_ratings_dictionary[1].append(name)\n",
    "    \n",
    "  elif hurricanes_dictionary[name][\"Deaths\"] <= mortality_scale[2]:\n",
    "    mortality_ratings_dictionary[2].append(name)\n",
    "    \n",
    "  elif hurricanes_dictionary[name][\"Deaths\"] <= mortality_scale[3]:\n",
    "    mortality_ratings_dictionary[3].append(name)\n",
    "    \n",
    "  elif hurricanes_dictionary[name][\"Deaths\"] <= mortality_scale[4]:\n",
    "    mortality_ratings_dictionary[4].append(name)\n",
    "  \n",
    "print(mortality_ratings_dictionary)"
   ]
  },
  {
   "cell_type": "markdown",
   "id": "725cf3ff-1c14-4a2a-9b89-68b40914da2a",
   "metadata": {},
   "source": [
    "### Max Hurricane Damage Finder"
   ]
  },
  {
   "cell_type": "code",
   "execution_count": 10,
   "id": "8df9c092-03ec-46f6-b30b-70117fec62c6",
   "metadata": {
    "execution": {
     "iopub.execute_input": "2022-01-21T00:43:04.385342Z",
     "iopub.status.busy": "2022-01-21T00:43:04.385342Z",
     "iopub.status.idle": "2022-01-21T00:43:04.394278Z",
     "shell.execute_reply": "2022-01-21T00:43:04.393324Z",
     "shell.execute_reply.started": "2022-01-21T00:43:04.385342Z"
    }
   },
   "outputs": [
    {
     "name": "stdout",
     "output_type": "stream",
     "text": [
      "The hurricane that caused the greatest damage was Katrina with a total cost of 125,000,000,000.000000 USD.\n"
     ]
    }
   ],
   "source": [
    "# this function finds the highest damage-inducing hurricane and its total cost\n",
    "\n",
    "def max_damage_finder(dictionary):\n",
    "  max_damage = 0\n",
    "  max_damage_name = ''\n",
    "  for name in dictionary:\n",
    "    if dictionary[name][\"Damage\"] == \"Damages not recorded\":\n",
    "      continue\n",
    "    if dictionary[name][\"Damage\"] > max_damage:\n",
    "      max_damage = dictionary[name][\"Damage\"]\n",
    "      max_damage_name = name\n",
    "  max_damage = format(max_damage, ',f')\n",
    "  print(\"The hurricane that caused the greatest damage was {} with a total cost of {} USD.\".format(max_damage_name, max_damage))\n",
    "\n",
    "max_damage_finder(hurricanes_dictionary)"
   ]
  },
  {
   "cell_type": "markdown",
   "id": "5bc89089-7e6c-43fb-8b26-573247e8a642",
   "metadata": {},
   "source": [
    "### Hurricane Damage Scale Rater"
   ]
  },
  {
   "cell_type": "code",
   "execution_count": 12,
   "id": "8939fe0f-286a-4a98-a36a-b9ea632b9825",
   "metadata": {
    "execution": {
     "iopub.execute_input": "2022-01-21T00:44:30.310888Z",
     "iopub.status.busy": "2022-01-21T00:44:30.310888Z",
     "iopub.status.idle": "2022-01-21T00:44:30.326846Z",
     "shell.execute_reply": "2022-01-21T00:44:30.325848Z",
     "shell.execute_reply.started": "2022-01-21T00:44:30.310888Z"
    },
    "tags": []
   },
   "outputs": [
    {
     "name": "stdout",
     "output_type": "stream",
     "text": [
      "{0: [], 1: ['San Felipe II Okeechobee', 'Cuba II', 'CubaBrownsville', 'Tampico', 'Carol', 'Janet', 'Hattie', 'Edith'], 2: ['New England', 'Carla', 'Beulah', 'Felix'], 3: ['Camille', 'David', 'Allen', 'Gilbert', 'Hugo', 'Mitch', 'Isabel', 'Emily', 'Dean'], 4: ['Andrew', 'Ivan', 'Rita', 'Wilma', 'Matthew', 'Michael']}\n"
     ]
    }
   ],
   "source": [
    "# Rating Hurricanes by Damage\n",
    "damage_scale = {0: 0,\n",
    "                1: 100000000,\n",
    "                2: 1000000000,\n",
    "                3: 10000000000,\n",
    "                4: 50000000000}\n",
    "\n",
    "# categorize hurricanes in new dictionary with damage severity as key\n",
    "damage_scale_dictionary = {0: [], 1: [], 2: [], 3:[], 4: []}\n",
    "\n",
    "for name in hurricanes_dictionary:\n",
    "  if hurricanes_dictionary[name][\"Damage\"] == \"Damages not recorded\":\n",
    "      continue\n",
    "        \n",
    "  if hurricanes_dictionary[name][\"Damage\"] == damage_scale[0]:\n",
    "    damage_scale_dictionary[0].append(name)\n",
    "    \n",
    "  elif hurricanes_dictionary[name][\"Damage\"] <= damage_scale[1]:\n",
    "    damage_scale_dictionary[1].append(name)\n",
    "    \n",
    "  elif hurricanes_dictionary[name][\"Damage\"] <= damage_scale[2]:\n",
    "    damage_scale_dictionary[2].append(name)\n",
    "    \n",
    "  elif hurricanes_dictionary[name][\"Damage\"] <= damage_scale[3]:\n",
    "    damage_scale_dictionary[3].append(name)\n",
    "    \n",
    "  elif hurricanes_dictionary[name][\"Damage\"] <= damage_scale[4]:\n",
    "    damage_scale_dictionary[4].append(name)\n",
    "\n",
    "print(damage_scale_dictionary)"
   ]
  },
  {
   "cell_type": "code",
   "execution_count": null,
   "id": "0b189d20-d2fe-4104-91ba-a45c86de8b25",
   "metadata": {},
   "outputs": [],
   "source": []
  }
 ],
 "metadata": {
  "kernelspec": {
   "display_name": "Python 3",
   "language": "python",
   "name": "python3"
  },
  "language_info": {
   "codemirror_mode": {
    "name": "ipython",
    "version": 3
   },
   "file_extension": ".py",
   "mimetype": "text/x-python",
   "name": "python",
   "nbconvert_exporter": "python",
   "pygments_lexer": "ipython3",
   "version": "3.8.8"
  }
 },
 "nbformat": 4,
 "nbformat_minor": 5
}
